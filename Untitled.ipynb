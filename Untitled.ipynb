{
 "cells": [
  {
   "cell_type": "code",
   "execution_count": 56,
   "metadata": {},
   "outputs": [],
   "source": [
    "import pandas as pd\n",
    "from pathlib import Path\n",
    "import numpy as np\n",
    "import os\n",
    "path = Path(\"C:\\\\Users\\\\u7j9\\\\ATCO Group\\\\O365Grp_Measurement Management - Instrumentation Priority Work\")\n",
    "files = list(path.glob('*.xlsx'))\n",
    "\n",
    "file_names = [\n",
    "    \"ACCID\",\n",
    "    \"CKEQM\",\n",
    "    \"CKEVC\",\n",
    "    \"CKHUC_TRUSG\",\n",
    "    \"TRCID\"\n",
    "]\n",
    "\n",
    "pfiles = []\n",
    "\n",
    "for name in file_names:\n",
    "    for f in files:\n",
    "        if name in f.name:\n",
    "            pfiles.append(f)\n",
    "            files.remove(f)\n",
    "            continue\n",
    "\n",
    "for i, item in enumerate(pfiles):\n",
    "    pfiles[i] = pd.read_excel(item)\n",
    "\n",
    "def combine_columns(row):\n",
    "    string = ''\n",
    "    for item in row:\n",
    "        if item is not np.nan:\n",
    "            string+=str(item)\n",
    "    return string\n",
    "\n",
    "    \n",
    "result = pd.concat(pfiles, keys=file_names, sort=True)\n",
    "result.index.rename(names=['Job_type', 'id'], inplace=True)\n",
    "result.reset_index(col_level=1, col_fill='job_type', inplace=True)\n",
    "result.set_index(result['Service Point'], inplace=True)\n",
    "result.sort_index(inplace=True)\n",
    "result['Dispatched to:'] = result[['Dispatched to:','dispatched to:', 'Tech']].apply(combine_columns, axis=1)\n",
    "result['Problem/Comment'] = result[['PROBLEM', 'Comment', 'comments']].apply(combine_columns, axis=1)\n",
    "\n",
    "cols = ['Job_type', 'Job','AMR', 'Instrument', 'Meter Location','Grid','Address','Operation Centre',  'Create Date',\n",
    "         'High Use',  \n",
    "       'Ventyx ID',  'Dispatched to:', 'dispatched to:','Problem/Comment', 'PROBLEM', 'Comment','comments']\n",
    "result = result[cols]\n",
    "\n",
    "result.groupby(['Service Point']).agg({\n",
    "    'Create Date':np.min, \n",
    "    'Job_type': lambda x: \"%s\" % ', '.join(x),\n",
    "    'Address': 'first',\n",
    "    'AMR': 'first',\n",
    "    'Instrument': 'first',\n",
    "    'Meter Location': 'first',\n",
    "    'Operation Centre': 'first',\n",
    "    'High Use': 'first',\n",
    "    'Ventyx ID': 'first',\n",
    "    'Dispatched to:': 'first',\n",
    "    'Problem/Comment': 'first',\n",
    "}).to_excel(path / 'Prioritiy Job Listing - (do not edit file will be replaced daily).xlsx')\n"
   ]
  },
  {
   "cell_type": "code",
   "execution_count": 54,
   "metadata": {},
   "outputs": [
    {
     "data": {
      "text/plain": [
       "Index(['Job_type', 'Job', 'AMR', 'Instrument', 'Meter Location', 'Grid',\n",
       "       'Address', 'Operation Centre', 'Create Date', 'High Use', 'Ventyx ID',\n",
       "       'Dispatched to:', 'dispatched to:', 'Problem/Comment', 'PROBLEM',\n",
       "       'Comment', 'comments'],\n",
       "      dtype='object')"
      ]
     },
     "execution_count": 54,
     "metadata": {},
     "output_type": "execute_result"
    }
   ],
   "source": [
    "result.head()\n",
    "result.columns"
   ]
  },
  {
   "cell_type": "code",
   "execution_count": 57,
   "metadata": {},
   "outputs": [
    {
     "data": {
      "text/plain": [
       "'C:\\\\Users\\\\u7j9\\\\AppData\\\\Local\\\\Continuum\\\\anaconda3\\\\python.exe'"
      ]
     },
     "execution_count": 57,
     "metadata": {},
     "output_type": "execute_result"
    }
   ],
   "source": [
    "import sys\n",
    "sys.executable"
   ]
  },
  {
   "cell_type": "code",
   "execution_count": null,
   "metadata": {},
   "outputs": [],
   "source": []
  }
 ],
 "metadata": {
  "kernelspec": {
   "display_name": "Python 3",
   "language": "python",
   "name": "python3"
  },
  "language_info": {
   "codemirror_mode": {
    "name": "ipython",
    "version": 3
   },
   "file_extension": ".py",
   "mimetype": "text/x-python",
   "name": "python",
   "nbconvert_exporter": "python",
   "pygments_lexer": "ipython3",
   "version": "3.7.3"
  }
 },
 "nbformat": 4,
 "nbformat_minor": 2
}
